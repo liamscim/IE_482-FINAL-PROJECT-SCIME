{
 "cells": [
  {
   "cell_type": "code",
   "execution_count": 3,
   "id": "a43b9464-bf46-4993-a8e4-88c8cae3d1f8",
   "metadata": {},
   "outputs": [
    {
     "name": "stdout",
     "output_type": "stream",
     "text": [
      "Starting classification loop...\n",
      "\n",
      "Recording...\n",
      "Predicted class: Speech\n",
      "\n",
      "Recording...\n",
      "Predicted class: Speech\n",
      "\n",
      "Recording...\n",
      "Predicted class: Speech\n",
      "\n",
      "Recording...\n",
      "Predicted class: Silence\n",
      "Classification loop stopped.\n"
     ]
    }
   ],
   "source": [
    "import numpy as np\n",
    "import tensorflow as tf\n",
    "import tensorflow_hub as hub\n",
    "import sounddevice as sd\n",
    "import csv\n",
    "import time\n",
    "import threading\n",
    "\n",
    "# Load YAMNet model\n",
    "model = hub.load('https://tfhub.dev/google/yamnet/1')\n",
    "\n",
    "# Load class names\n",
    "def class_names_from_csv(class_map_csv_path):\n",
    "    class_names = []\n",
    "    with tf.io.gfile.GFile(class_map_csv_path) as csvfile:\n",
    "        reader = csv.DictReader(csvfile)\n",
    "        for row in reader:\n",
    "            class_names.append(row['display_name'])\n",
    "    return class_names\n",
    "\n",
    "class_map_path = model.class_map_path().numpy()\n",
    "class_names = class_names_from_csv(class_map_path)\n",
    "\n",
    "# Set recording parameters\n",
    "duration = 2  # seconds\n",
    "fs = 16000  # Hz\n",
    "\n",
    "# Control flag\n",
    "keep_running = True\n",
    "\n",
    "# Classification loop\n",
    "def classify_loop():\n",
    "    global keep_running\n",
    "    print(\"Starting classification loop...\")\n",
    "    while keep_running:\n",
    "        print(\"\\nRecording...\")\n",
    "        audio_data = sd.rec(int(duration * fs), samplerate=fs, channels=1, dtype='float32')\n",
    "        sd.wait()\n",
    "\n",
    "        waveform = tf.reshape(audio_data, [-1])\n",
    "        scores, embeddings, spectrogram = model(waveform)\n",
    "\n",
    "        mean_scores = tf.reduce_mean(scores, axis=0)\n",
    "        top_class = tf.argmax(mean_scores).numpy()\n",
    "\n",
    "        print(\"Predicted class:\", class_names[top_class])\n",
    "        time.sleep(0.5)\n",
    "\n",
    "    print(\"Classification loop stopped.\")\n",
    "\n",
    "# Start the thread\n",
    "classify_thread = threading.Thread(target=classify_loop)\n",
    "classify_thread.start()\n",
    "\n",
    "# Stop function you can call manually\n",
    "def stop_classification():\n",
    "    global keep_running\n",
    "    keep_running = False\n",
    "    classify_thread.join()\n",
    "    print(\"Stopped classification.\")"
   ]
  },
  {
   "cell_type": "code",
   "execution_count": 4,
   "id": "f57bb89f-49fe-4a46-a13b-605d1d8c676c",
   "metadata": {},
   "outputs": [
    {
     "name": "stdout",
     "output_type": "stream",
     "text": [
      "Stopped classification.\n"
     ]
    }
   ],
   "source": [
    "stop_classification()"
   ]
  },
  {
   "cell_type": "code",
   "execution_count": null,
   "id": "d66af33d-89f7-4127-8ae6-fa4116c665eb",
   "metadata": {},
   "outputs": [],
   "source": []
  }
 ],
 "metadata": {
  "kernelspec": {
   "display_name": "Python 3 (ipykernel)",
   "language": "python",
   "name": "python3"
  },
  "language_info": {
   "codemirror_mode": {
    "name": "ipython",
    "version": 3
   },
   "file_extension": ".py",
   "mimetype": "text/x-python",
   "name": "python",
   "nbconvert_exporter": "python",
   "pygments_lexer": "ipython3",
   "version": "3.11.9"
  }
 },
 "nbformat": 4,
 "nbformat_minor": 5
}
